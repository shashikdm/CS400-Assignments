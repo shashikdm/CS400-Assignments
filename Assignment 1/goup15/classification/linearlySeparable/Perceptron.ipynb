{
 "cells": [
  {
   "cell_type": "code",
   "execution_count": 111,
   "metadata": {},
   "outputs": [],
   "source": [
    "import numpy as np\n",
    "import matplotlib.pyplot as plt\n",
    "import pandas as pd"
   ]
  },
  {
   "cell_type": "code",
   "execution_count": 112,
   "metadata": {},
   "outputs": [],
   "source": [
    "# load data\n",
    "X_1 = np.loadtxt('class1_train.txt')\n",
    "X_2 = np.loadtxt('class2_train.txt')\n",
    "X_3 = np.loadtxt('class3_train.txt')\n",
    "X_1_val = np.loadtxt('class1_val.txt')\n",
    "X_2_val = np.loadtxt('class2_val.txt')\n",
    "X_3_val = np.loadtxt('class3_val.txt')\n",
    "X_1_test = np.loadtxt('class1_test.txt')\n",
    "X_2_test = np.loadtxt('class2_test.txt')\n",
    "X_3_test = np.loadtxt('class3_test.txt')"
   ]
  },
  {
   "cell_type": "code",
   "execution_count": 113,
   "metadata": {},
   "outputs": [
    {
     "data": {
      "text/plain": [
       "<matplotlib.collections.PathCollection at 0x7f6388f29a58>"
      ]
     },
     "execution_count": 113,
     "metadata": {},
     "output_type": "execute_result"
    },
    {
     "data": {
      "image/png": "[encoded data removed]",
      "text/plain": [
       "<Figure size 360x360 with 1 Axes>"
      ]
     },
     "metadata": {
      "needs_background": "light"
     },
     "output_type": "display_data"
    }
   ],
   "source": [
    "# simply visualising data\n",
    "plt.scatter(X_1[:, 0], X_1[:, 1], color = 'cyan', s = 2)\n",
    "plt.scatter(X_2[:, 0], X_2[:, 1], color = 'magenta', s = 2)\n",
    "plt.scatter(X_3[:, 0], X_3[:, 1], color = 'yellow', s = 2)"
   ]
  },
  {
   "cell_type": "code",
   "execution_count": 114,
   "metadata": {},
   "outputs": [],
   "source": [
    "# SGD function (Stochastic Gradient Descent)\n",
    "def SGD(X_1, X_2, alpha = 0.01):\n",
    "    converge = True\n",
    "    W = np.random.randn(X_1.shape[1])\n",
    "    while(converge):\n",
    "        converge = False\n",
    "        for x in X_1:\n",
    "            if np.dot(W, x) < 0:\n",
    "                W = W+alpha*x\n",
    "                converge = True\n",
    "        for x in X_2:\n",
    "            if np.dot(W, x) > 0:\n",
    "                W = W-alpha*x\n",
    "                converge = True\n",
    "    return W"
   ]
  },
  {
   "cell_type": "code",
   "execution_count": 115,
   "metadata": {},
   "outputs": [],
   "source": [
    "# Perceptron learning\n",
    "# adding bias term\n",
    "X_1_aug = np.ones((X_1.shape[0], 3))\n",
    "X_1_aug[:, 1:3] = X_1\n",
    "X_2_aug = np.ones((X_2.shape[0], 3))\n",
    "X_2_aug[:, 1:3] = X_2\n",
    "X_3_aug = np.ones((X_3.shape[0], 3))\n",
    "X_3_aug[:, 1:3] = X_3\n",
    "X_1_test_aug = np.ones((X_1_test.shape[0], 3))\n",
    "X_1_test_aug[:, 1:3] = X_1_test\n",
    "X_2_test_aug = np.ones((X_2_test.shape[0], 3))\n",
    "X_2_test_aug[:, 1:3] = X_2_test\n",
    "X_3_test_aug = np.ones((X_3_test.shape[0], 3))\n",
    "X_3_test_aug[:, 1:3] = X_3_test\n",
    "\n",
    "# class 1 vs 2\n",
    "alpha = 0.01\n",
    "W12 = SGD(X_1_aug, X_2_aug)\n",
    "\n",
    "# class 2 vs 3\n",
    "alpha = 0.01\n",
    "W23 = SGD(X_2_aug, X_3_aug)\n",
    "\n",
    "# class 3 vs 1\n",
    "alpha = 0.01\n",
    "W31 = SGD(X_3_aug, X_1_aug)\n"
   ]
  },
  {
   "cell_type": "code",
   "execution_count": 116,
   "metadata": {},
   "outputs": [],
   "source": [
    "# Perceptron model based on voting\n",
    "def c1_vs_c2(x):\n",
    "    if np.dot(W12, x) > 0:\n",
    "        return 0\n",
    "    else:\n",
    "        return 1\n",
    "    \n",
    "def c2_vs_c3(x):\n",
    "    if np.dot(W23, x) > 0:\n",
    "        return 1\n",
    "    else:\n",
    "        return 2\n",
    "    \n",
    "def c3_vs_c1(x):\n",
    "    if np.dot(W31, x) > 0:\n",
    "        return 2\n",
    "    else:\n",
    "        return 0\n",
    "\n",
    "def predict(x):\n",
    "    if c1_vs_c2(x) == 0 and c3_vs_c1(x) == 0:\n",
    "        return 0\n",
    "    if c1_vs_c2(x) == 1 and c2_vs_c3(x) == 1:\n",
    "        return 1\n",
    "    if c2_vs_c3(x) == 2 and c3_vs_c1(x) == 2:\n",
    "        return 2"
   ]
  },
  {
   "cell_type": "code",
   "execution_count": 117,
   "metadata": {},
   "outputs": [
    {
     "data": {
      "text/html": [
       "<div>\n",
       "<style scoped>\n",
       "    .dataframe tbody tr th:only-of-type {\n",
       "        vertical-align: middle;\n",
       "    }\n",
       "\n",
       "    .dataframe tbody tr th {\n",
       "        vertical-align: top;\n",
       "    }\n",
       "\n",
       "    .dataframe thead th {\n",
       "        text-align: right;\n",
       "    }\n",
       "</style>\n",
       "<table border=\"1\" class=\"dataframe\">\n",
       "  <thead>\n",
       "    <tr style=\"text-align: right;\">\n",
       "      <th></th>\n",
       "      <th>True 1</th>\n",
       "      <th>True 2</th>\n",
       "      <th>True 3</th>\n",
       "    </tr>\n",
       "  </thead>\n",
       "  <tbody>\n",
       "    <tr>\n",
       "      <th>Predicted 1</th>\n",
       "      <td>100.0</td>\n",
       "      <td>0.0</td>\n",
       "      <td>0.0</td>\n",
       "    </tr>\n",
       "    <tr>\n",
       "      <th>Predicted 2</th>\n",
       "      <td>0.0</td>\n",
       "      <td>100.0</td>\n",
       "      <td>0.0</td>\n",
       "    </tr>\n",
       "    <tr>\n",
       "      <th>Predicted 3</th>\n",
       "      <td>0.0</td>\n",
       "      <td>0.0</td>\n",
       "      <td>100.0</td>\n",
       "    </tr>\n",
       "  </tbody>\n",
       "</table>\n",
       "</div>"
      ],
      "text/plain": [
       "             True 1  True 2  True 3\n",
       "Predicted 1   100.0     0.0     0.0\n",
       "Predicted 2     0.0   100.0     0.0\n",
       "Predicted 3     0.0     0.0   100.0"
      ]
     },
     "execution_count": 117,
     "metadata": {},
     "output_type": "execute_result"
    }
   ],
   "source": [
    "# confusion matrix\n",
    "# rows: predicted classes, columns: true classes\n",
    "ConfusionMatrix = np.zeros((3, 3))\n",
    "X = [X_1_test_aug, X_2_test_aug, X_3_test_aug]\n",
    "for i in range(3):\n",
    "    for x in X[i]:\n",
    "        ConfusionMatrix[predict(x), i] = ConfusionMatrix[predict(x), i]+1\n",
    "pd.DataFrame(ConfusionMatrix, ['Predicted 1', 'Predicted 2', 'Predicted 3'],['True 1', 'True 2', 'True 3'])"
   ]
  },
  {
   "cell_type": "code",
   "execution_count": 118,
   "metadata": {},
   "outputs": [
    {
     "name": "stdout",
     "output_type": "stream",
     "text": [
      "{'Accuracy: ': [100.0, 100.0, 100.0], 'Mean Accuracy': 100.0}\n",
      "{'Precision: ': [1.0, 1.0, 1.0], 'Mean Precision': 1.0}\n",
      "{'Recall: ': [1.0, 1.0, 1.0], 'Mean Recall': 1.0}\n",
      "{'F_measure: ': [1.0, 1.0, 1.0], 'Mean F_measure': 1.0}\n"
     ]
    }
   ],
   "source": [
    "# performance measures\n",
    "N = np.sum(ConfusionMatrix, axis = 0)\n",
    "TP = np.diagonal(ConfusionMatrix)\n",
    "TN = np.sum(TP)-TP\n",
    "FP = np.sum(ConfusionMatrix, axis = 1)-TP\n",
    "FN = np.sum(ConfusionMatrix, axis = 0)-TP\n",
    "Accuracy = 100*TP/N\n",
    "Precision = TP/(TP+FP)\n",
    "Recall = TP/(TP+FN)\n",
    "F_measure = 2*Precision*Recall/(Precision+Recall)\n",
    "print({\n",
    "    'Accuracy: ': Accuracy.tolist(),\n",
    "    'Mean Accuracy': np.mean(Accuracy)\n",
    "})\n",
    "print({\n",
    "    'Precision: ': Precision.tolist(),\n",
    "    'Mean Precision': np.mean(Precision)\n",
    "})\n",
    "print({\n",
    "    'Recall: ': Recall.tolist(),\n",
    "    'Mean Recall': np.mean(Recall)\n",
    "})\n",
    "print({\n",
    "    'F_measure: ': F_measure.tolist(),\n",
    "    'Mean F_measure': np.mean(F_measure)\n",
    "})"
   ]
  },
  {
   "cell_type": "code",
   "execution_count": 119,
   "metadata": {},
   "outputs": [
    {
     "data": {
      "text/plain": [
       "<matplotlib.collections.PathCollection at 0x7f63889f67b8>"
      ]
     },
     "execution_count": 119,
     "metadata": {},
     "output_type": "execute_result"
    },
    {
     "data": {
      "image/png": "[encoded data removed]",
      "text/plain": [
       "<Figure size 360x1080 with 3 Axes>"
      ]
     },
     "metadata": {
      "needs_background": "light"
     },
     "output_type": "display_data"
    }
   ],
   "source": [
    "# decision region plot for every pair of classes with the respective training data superimposed\n",
    "plt.rcParams['figure.figsize'] = [5, 15]\n",
    "fig, axs = plt.subplots(3, 1)\n",
    "x_min = min([min(X_1[:, 0]), min(X_2[:, 0]), min(X_3[:, 0])])\n",
    "y_min = min([min(X_1[:, 1]), min(X_2[:, 1]), min(X_3[:, 1])])\n",
    "x_max = max([max(X_1[:, 0]), max(X_2[:, 0]), max(X_3[:, 0])])\n",
    "y_max = max([max(X_1[:, 1]), max(X_2[:, 1]), max(X_3[:, 1])])\n",
    "\n",
    "# class 1 v class 2\n",
    "x_1 = []\n",
    "x_2 = []\n",
    "for x in np.arange(x_min, x_max, 0.1):\n",
    "    for y in np.arange(y_min, y_max, 0.1):\n",
    "        c = c1_vs_c2([1, x, y])\n",
    "        if c == 0:\n",
    "            x_1.append([x, y])\n",
    "        elif c == 1:\n",
    "            x_2.append([x, y])\n",
    "x_1 = np.array(x_1)\n",
    "x_2 = np.array(x_2)\n",
    "axs[0].scatter(x_1[:, 0], x_1[:, 1], color = 'cyan', s = 2)\n",
    "axs[0].scatter(x_2[:, 0], x_2[:, 1], color = 'magenta', s = 2)\n",
    "axs[0].scatter(X_1[:, 0], X_1[:, 1], color = 'blue', s = 2)\n",
    "axs[0].scatter(X_2[:, 0], X_2[:, 1], color = 'red', s = 2)\n",
    "\n",
    "# class 2 v class 3\n",
    "x_2 = []\n",
    "x_3 = []\n",
    "for x in np.arange(x_min, x_max, 0.1):\n",
    "    for y in np.arange(y_min, y_max, 0.1):\n",
    "        c = c2_vs_c3([1, x, y])\n",
    "        if c == 1:\n",
    "            x_2.append([x, y])\n",
    "        elif c == 2:\n",
    "            x_3.append([x, y])\n",
    "x_2 = np.array(x_2)\n",
    "x_3 = np.array(x_3)\n",
    "axs[1].scatter(x_2[:, 0], x_2[:, 1], color = 'magenta', s = 2)\n",
    "axs[1].scatter(x_3[:, 0], x_3[:, 1], color = 'yellow', s = 2)\n",
    "axs[1].scatter(X_2[:, 0], X_2[:, 1], color = 'red', s = 2)\n",
    "axs[1].scatter(X_3[:, 0], X_3[:, 1], color = 'orange', s = 2)\n",
    "\n",
    "# class 3 v class 1\n",
    "x_3 = []\n",
    "x_1 = []\n",
    "for x in np.arange(x_min, x_max, 0.1):\n",
    "    for y in np.arange(y_min, y_max, 0.1):\n",
    "        c = c3_vs_c1([1, x, y])\n",
    "        if c == 2:\n",
    "            x_3.append([x, y])\n",
    "        elif c == 0:\n",
    "            x_1.append([x, y])\n",
    "x_3 = np.array(x_3)\n",
    "x_1 = np.array(x_1)\n",
    "axs[2].scatter(x_3[:, 0], x_3[:, 1], color = 'yellow', s = 2)\n",
    "axs[2].scatter(x_1[:, 0], x_1[:, 1], color = 'cyan', s = 2)\n",
    "axs[2].scatter(X_3[:, 0], X_3[:, 1], color = 'orange', s = 2)\n",
    "axs[2].scatter(X_1[:, 0], X_1[:, 1], color = 'blue', s = 2)"
   ]
  },
  {
   "cell_type": "code",
   "execution_count": 120,
   "metadata": {},
   "outputs": [
    {
     "data": {
      "text/plain": [
       "<matplotlib.collections.PathCollection at 0x7f6388a55320>"
      ]
     },
     "execution_count": 120,
     "metadata": {},
     "output_type": "execute_result"
    },
    {
     "data": {
      "image/png": "[encoded data removed]",
      "text/plain": [
       "<Figure size 360x360 with 1 Axes>"
      ]
     },
     "metadata": {
      "needs_background": "light"
     },
     "output_type": "display_data"
    }
   ],
   "source": [
    "# Decision region plot for all the classes together with the training data superposed\n",
    "plt.rcParams['figure.figsize'] = [5, 5]\n",
    "x_1 = []\n",
    "x_2 = []\n",
    "x_3 = []\n",
    "for x in np.arange(x_min, x_max, 0.1):\n",
    "    for y in np.arange(y_min, y_max, 0.1):\n",
    "        c = predict([1, x, y])\n",
    "        if c == 0:\n",
    "            x_1.append([x, y])\n",
    "        elif c == 1:\n",
    "            x_2.append([x, y])\n",
    "        else:\n",
    "            x_3.append([x, y])\n",
    "x_1 = np.array(x_1)\n",
    "x_2 = np.array(x_2)\n",
    "x_3 = np.array(x_3)\n",
    "plt.scatter(x_1[:, 0], x_1[:, 1], color = 'cyan', s = 2)\n",
    "plt.scatter(x_2[:, 0], x_2[:, 1], color = 'magenta', s = 2)\n",
    "plt.scatter(x_3[:, 0], x_3[:, 1], color = 'yellow', s = 2)\n",
    "plt.scatter(X_1[:, 0], X_1[:, 1], color = 'blue', s = 2)\n",
    "plt.scatter(X_2[:, 0], X_2[:, 1], color = 'red', s = 2)\n",
    "plt.scatter(X_3[:, 0], X_3[:, 1], color = 'green', s = 2)"
   ]
  },
  {
   "cell_type": "code",
   "execution_count": null,
   "metadata": {},
   "outputs": [],
   "source": []
  }
 ],
 "metadata": {
  "kernelspec": {
   "display_name": "Python 3",
   "language": "python",
   "name": "python3"
  },
  "language_info": {
   "codemirror_mode": {
    "name": "ipython",
    "version": 3
   },
   "file_extension": ".py",
   "mimetype": "text/x-python",
   "name": "python",
   "nbconvert_exporter": "python",
   "pygments_lexer": "ipython3",
   "version": "3.6.8"
  }
 },
 "nbformat": 4,
 "nbformat_minor": 2
}

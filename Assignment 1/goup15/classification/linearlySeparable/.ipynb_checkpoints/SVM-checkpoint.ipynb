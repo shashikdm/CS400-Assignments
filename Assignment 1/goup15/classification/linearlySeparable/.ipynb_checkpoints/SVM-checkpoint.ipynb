{
 "cells": [
  {
   "cell_type": "code",
   "execution_count": 5,
   "metadata": {},
   "outputs": [],
   "source": [
    "import numpy as np\n",
    "import matplotlib.pyplot as plt\n",
    "import pandas as pd\n",
    "from sklearn import svm"
   ]
  },
  {
   "cell_type": "code",
   "execution_count": 10,
   "metadata": {},
   "outputs": [],
   "source": [
    "# load data\n",
    "X_1 = np.loadtxt('class1_train.txt')\n",
    "X_2 = np.loadtxt('class2_train.txt')\n",
    "X_3 = np.loadtxt('class3_train.txt')\n",
    "X_1_val = np.loadtxt('class1_val.txt')\n",
    "X_2_val = np.loadtxt('class2_val.txt')\n",
    "X_3_val = np.loadtxt('class3_val.txt')\n",
    "X_1_test = np.loadtxt('class1_test.txt')\n",
    "X_2_test = np.loadtxt('class2_test.txt')\n",
    "X_3_test = np.loadtxt('class3_test.txt')\n",
    "X_train = np.concatenate((X_1, X_2, X_3))\n",
    "y_train = np.zeros((X_train.shape[0]))\n",
    "y_train[0:X_1.shape[0]] = 0\n",
    "y_train[X_1.shape[0]:X_1.shape[0]+X_2.shape[0]] = 1\n",
    "y_train[X_1.shape[0]+X_2.shape[0]:] = 2"
   ]
  },
  {
   "cell_type": "code",
   "execution_count": 3,
   "metadata": {},
   "outputs": [
    {
     "data": {
      "text/plain": [
       "<matplotlib.collections.PathCollection at 0x7f7c3c2c3a58>"
      ]
     },
     "execution_count": 3,
     "metadata": {},
     "output_type": "execute_result"
    },
    {
     "data": {
      "image/png": "[encoded data removed]",
      "text/plain": [
       "<Figure size 432x288 with 1 Axes>"
      ]
     },
     "metadata": {
      "needs_background": "light"
     },
     "output_type": "display_data"
    }
   ],
   "source": [
    "# simply visualising data\n",
    "plt.scatter(X_1[:, 0], X_1[:, 1], color = 'cyan', s = 2)\n",
    "plt.scatter(X_2[:, 0], X_2[:, 1], color = 'magenta', s = 2)\n",
    "plt.scatter(X_3[:, 0], X_3[:, 1], color = 'yellow', s = 2)"
   ]
  },
  {
   "cell_type": "code",
   "execution_count": 62,
   "metadata": {},
   "outputs": [
    {
     "data": {
      "text/plain": [
       "SVC(C=1.0, cache_size=200, class_weight=None, coef0=0.0,\n",
       "    decision_function_shape='ovo', degree=3, gamma='auto_deprecated',\n",
       "    kernel='linear', max_iter=-1, probability=False, random_state=None,\n",
       "    shrinking=True, tol=0.001, verbose=False)"
      ]
     },
     "execution_count": 62,
     "metadata": {},
     "output_type": "execute_result"
    }
   ],
   "source": [
    "# svm classifier\n",
    "clf = svm.SVC(kernel = 'linear', decision_function_shape = 'ovo')\n",
    "clf.fit(X_train, y_train)"
   ]
  },
  {
   "cell_type": "code",
   "execution_count": 57,
   "metadata": {},
   "outputs": [
    {
     "data": {
      "text/html": [
       "<div>\n",
       "<style scoped>\n",
       "    .dataframe tbody tr th:only-of-type {\n",
       "        vertical-align: middle;\n",
       "    }\n",
       "\n",
       "    .dataframe tbody tr th {\n",
       "        vertical-align: top;\n",
       "    }\n",
       "\n",
       "    .dataframe thead th {\n",
       "        text-align: right;\n",
       "    }\n",
       "</style>\n",
       "<table border=\"1\" class=\"dataframe\">\n",
       "  <thead>\n",
       "    <tr style=\"text-align: right;\">\n",
       "      <th></th>\n",
       "      <th>True 1</th>\n",
       "      <th>True 2</th>\n",
       "      <th>True 3</th>\n",
       "    </tr>\n",
       "  </thead>\n",
       "  <tbody>\n",
       "    <tr>\n",
       "      <th>Predicted 1</th>\n",
       "      <td>100.0</td>\n",
       "      <td>0.0</td>\n",
       "      <td>0.0</td>\n",
       "    </tr>\n",
       "    <tr>\n",
       "      <th>Predicted 2</th>\n",
       "      <td>0.0</td>\n",
       "      <td>100.0</td>\n",
       "      <td>0.0</td>\n",
       "    </tr>\n",
       "    <tr>\n",
       "      <th>Predicted 3</th>\n",
       "      <td>0.0</td>\n",
       "      <td>0.0</td>\n",
       "      <td>100.0</td>\n",
       "    </tr>\n",
       "  </tbody>\n",
       "</table>\n",
       "</div>"
      ],
      "text/plain": [
       "             True 1  True 2  True 3\n",
       "Predicted 1   100.0     0.0     0.0\n",
       "Predicted 2     0.0   100.0     0.0\n",
       "Predicted 3     0.0     0.0   100.0"
      ]
     },
     "execution_count": 57,
     "metadata": {},
     "output_type": "execute_result"
    }
   ],
   "source": [
    "# confusion matrix\n",
    "# rows: predicted classes, columns: true classes\n",
    "ConfusionMatrix = np.zeros((3, 3))\n",
    "X = [X_1_test, X_2_test, X_3_test]\n",
    "for i in range(3):\n",
    "    for x in X[i]:\n",
    "        x = x.reshape(1, -1)\n",
    "        ConfusionMatrix[int(clf.predict(x)), i] = ConfusionMatrix[int(clf.predict(x)), i]+1\n",
    "pd.DataFrame(ConfusionMatrix, ['Predicted 1', 'Predicted 2', 'Predicted 3'],['True 1', 'True 2', 'True 3'])"
   ]
  },
  {
   "cell_type": "code",
   "execution_count": 58,
   "metadata": {},
   "outputs": [
    {
     "name": "stdout",
     "output_type": "stream",
     "text": [
      "{'Accuracy: ': [100.0, 100.0, 100.0], 'Mean Accuracy': 100.0}\n",
      "{'Precision: ': [1.0, 1.0, 1.0], 'Mean Precision': 1.0}\n",
      "{'Recall: ': [1.0, 1.0, 1.0], 'Mean Recall': 1.0}\n",
      "{'F_measure: ': [1.0, 1.0, 1.0], 'Mean F_measure': 1.0}\n"
     ]
    }
   ],
   "source": [
    "# performance measures\n",
    "N = np.sum(ConfusionMatrix, axis = 0)\n",
    "TP = np.diagonal(ConfusionMatrix)\n",
    "TN = np.sum(TP)-TP\n",
    "FP = np.sum(ConfusionMatrix, axis = 1)-TP\n",
    "FN = np.sum(ConfusionMatrix, axis = 0)-TP\n",
    "Accuracy = 100*TP/N\n",
    "Precision = TP/(TP+FP)\n",
    "Recall = TP/(TP+FN)\n",
    "F_measure = 2*Precision*Recall/(Precision+Recall)\n",
    "print({\n",
    "    'Accuracy: ': Accuracy.tolist(),\n",
    "    'Mean Accuracy': np.mean(Accuracy)\n",
    "})\n",
    "print({\n",
    "    'Precision: ': Precision.tolist(),\n",
    "    'Mean Precision': np.mean(Precision)\n",
    "})\n",
    "print({\n",
    "    'Recall: ': Recall.tolist(),\n",
    "    'Mean Recall': np.mean(Recall)\n",
    "})\n",
    "print({\n",
    "    'F_measure: ': F_measure.tolist(),\n",
    "    'Mean F_measure': np.mean(F_measure)\n",
    "})"
   ]
  },
  {
   "cell_type": "code",
   "execution_count": 42,
   "metadata": {},
   "outputs": [
    {
     "ename": "NameError",
     "evalue": "name 'c1_vs_c2' is not defined",
     "output_type": "error",
     "traceback": [
      "\u001b[0;31m---------------------------------------------------------------------------\u001b[0m",
      "\u001b[0;31mNameError\u001b[0m                                 Traceback (most recent call last)",
      "\u001b[0;32m<ipython-input-42-cd6de45b7ef9>\u001b[0m in \u001b[0;36m<module>\u001b[0;34m\u001b[0m\n\u001b[1;32m     12\u001b[0m \u001b[0;32mfor\u001b[0m \u001b[0mx\u001b[0m \u001b[0;32min\u001b[0m \u001b[0mnp\u001b[0m\u001b[0;34m.\u001b[0m\u001b[0marange\u001b[0m\u001b[0;34m(\u001b[0m\u001b[0mx_min\u001b[0m\u001b[0;34m,\u001b[0m \u001b[0mx_max\u001b[0m\u001b[0;34m,\u001b[0m \u001b[0;36m0.1\u001b[0m\u001b[0;34m)\u001b[0m\u001b[0;34m:\u001b[0m\u001b[0;34m\u001b[0m\u001b[0;34m\u001b[0m\u001b[0m\n\u001b[1;32m     13\u001b[0m     \u001b[0;32mfor\u001b[0m \u001b[0my\u001b[0m \u001b[0;32min\u001b[0m \u001b[0mnp\u001b[0m\u001b[0;34m.\u001b[0m\u001b[0marange\u001b[0m\u001b[0;34m(\u001b[0m\u001b[0my_min\u001b[0m\u001b[0;34m,\u001b[0m \u001b[0my_max\u001b[0m\u001b[0;34m,\u001b[0m \u001b[0;36m0.1\u001b[0m\u001b[0;34m)\u001b[0m\u001b[0;34m:\u001b[0m\u001b[0;34m\u001b[0m\u001b[0;34m\u001b[0m\u001b[0m\n\u001b[0;32m---> 14\u001b[0;31m         \u001b[0mc\u001b[0m \u001b[0;34m=\u001b[0m \u001b[0mc1_vs_c2\u001b[0m\u001b[0;34m(\u001b[0m\u001b[0;34m[\u001b[0m\u001b[0;36m1\u001b[0m\u001b[0;34m,\u001b[0m \u001b[0mx\u001b[0m\u001b[0;34m,\u001b[0m \u001b[0my\u001b[0m\u001b[0;34m]\u001b[0m\u001b[0;34m)\u001b[0m\u001b[0;34m\u001b[0m\u001b[0;34m\u001b[0m\u001b[0m\n\u001b[0m\u001b[1;32m     15\u001b[0m         \u001b[0;32mif\u001b[0m \u001b[0mc\u001b[0m \u001b[0;34m==\u001b[0m \u001b[0;36m0\u001b[0m\u001b[0;34m:\u001b[0m\u001b[0;34m\u001b[0m\u001b[0;34m\u001b[0m\u001b[0m\n\u001b[1;32m     16\u001b[0m             \u001b[0mx_1\u001b[0m\u001b[0;34m.\u001b[0m\u001b[0mappend\u001b[0m\u001b[0;34m(\u001b[0m\u001b[0;34m[\u001b[0m\u001b[0mx\u001b[0m\u001b[0;34m,\u001b[0m \u001b[0my\u001b[0m\u001b[0;34m]\u001b[0m\u001b[0;34m)\u001b[0m\u001b[0;34m\u001b[0m\u001b[0;34m\u001b[0m\u001b[0m\n",
      "\u001b[0;31mNameError\u001b[0m: name 'c1_vs_c2' is not defined"
     ]
    },
    {
     "data": {
      "image/png": "[encoded data removed]",
      "text/plain": [
       "<Figure size 360x1080 with 3 Axes>"
      ]
     },
     "metadata": {
      "needs_background": "light"
     },
     "output_type": "display_data"
    }
   ],
   "source": [
    "# decision region plot for every pair of classes with the respective training data superimposed\n",
    "plt.rcParams['figure.figsize'] = [5, 15]\n",
    "fig, axs = plt.subplots(3, 1)\n",
    "x_min = min([min(X_1[:, 0]), min(X_2[:, 0]), min(X_3[:, 0])])\n",
    "y_min = min([min(X_1[:, 1]), min(X_2[:, 1]), min(X_3[:, 1])])\n",
    "x_max = max([max(X_1[:, 0]), max(X_2[:, 0]), max(X_3[:, 0])])\n",
    "y_max = max([max(X_1[:, 1]), max(X_2[:, 1]), max(X_3[:, 1])])\n",
    "\n",
    "# class 1 v class 2\n",
    "x_1 = []\n",
    "x_2 = []\n",
    "for x in np.arange(x_min, x_max, 0.1):\n",
    "    for y in np.arange(y_min, y_max, 0.1):\n",
    "        c = c1_vs_c2([1, x, y])\n",
    "        if c == 0:\n",
    "            x_1.append([x, y])\n",
    "        elif c == 1:\n",
    "            x_2.append([x, y])\n",
    "x_1 = np.array(x_1)\n",
    "x_2 = np.array(x_2)\n",
    "axs[0].scatter(x_1[:, 0], x_1[:, 1], color = 'cyan', s = 2)\n",
    "axs[0].scatter(x_2[:, 0], x_2[:, 1], color = 'magenta', s = 2)\n",
    "axs[0].scatter(X_1[:, 0], X_1[:, 1], color = 'blue', s = 2)\n",
    "axs[0].scatter(X_2[:, 0], X_2[:, 1], color = 'red', s = 2)\n",
    "\n",
    "# class 2 v class 3\n",
    "x_2 = []\n",
    "x_3 = []\n",
    "for x in np.arange(x_min, x_max, 0.1):\n",
    "    for y in np.arange(y_min, y_max, 0.1):\n",
    "        c = c2_vs_c3([1, x, y])\n",
    "        if c == 1:\n",
    "            x_2.append([x, y])\n",
    "        elif c == 2:\n",
    "            x_3.append([x, y])\n",
    "x_2 = np.array(x_2)\n",
    "x_3 = np.array(x_3)\n",
    "axs[1].scatter(x_2[:, 0], x_2[:, 1], color = 'magenta', s = 2)\n",
    "axs[1].scatter(x_3[:, 0], x_3[:, 1], color = 'yellow', s = 2)\n",
    "axs[1].scatter(X_2[:, 0], X_2[:, 1], color = 'red', s = 2)\n",
    "axs[1].scatter(X_3[:, 0], X_3[:, 1], color = 'orange', s = 2)\n",
    "\n",
    "# class 3 v class 1\n",
    "x_3 = []\n",
    "x_1 = []\n",
    "for x in np.arange(x_min, x_max, 0.1):\n",
    "    for y in np.arange(y_min, y_max, 0.1):\n",
    "        c = c3_vs_c1([1, x, y])\n",
    "        if c == 2:\n",
    "            x_3.append([x, y])\n",
    "        elif c == 0:\n",
    "            x_1.append([x, y])\n",
    "x_3 = np.array(x_3)\n",
    "x_1 = np.array(x_1)\n",
    "axs[2].scatter(x_3[:, 0], x_3[:, 1], color = 'yellow', s = 2)\n",
    "axs[2].scatter(x_1[:, 0], x_1[:, 1], color = 'cyan', s = 2)\n",
    "axs[2].scatter(X_3[:, 0], X_3[:, 1], color = 'orange', s = 2)\n",
    "axs[2].scatter(X_1[:, 0], X_1[:, 1], color = 'blue', s = 2)"
   ]
  },
  {
   "cell_type": "code",
   "execution_count": 61,
   "metadata": {},
   "outputs": [
    {
     "data": {
      "text/plain": [
       "<matplotlib.collections.PathCollection at 0x7f7c1bc949e8>"
      ]
     },
     "execution_count": 61,
     "metadata": {},
     "output_type": "execute_result"
    },
    {
     "data": {
      "image/png": "[encoded data removed]",
      "text/plain": [
       "<Figure size 360x360 with 1 Axes>"
      ]
     },
     "metadata": {
      "needs_background": "light"
     },
     "output_type": "display_data"
    }
   ],
   "source": [
    "# Decision region plot for all the classes together with the training data superposed\n",
    "plt.rcParams['figure.figsize'] = [5, 5]\n",
    "x_1 = []\n",
    "x_2 = []\n",
    "x_3 = []\n",
    "for x in np.arange(x_min, x_max, 0.1):\n",
    "    for y in np.arange(y_min, y_max, 0.1):\n",
    "        c = clf.predict([[x, y]])\n",
    "        if c == 0:\n",
    "            x_1.append([x, y])\n",
    "        elif c == 1:\n",
    "            x_2.append([x, y])\n",
    "        else:\n",
    "            x_3.append([x, y])\n",
    "x_1 = np.array(x_1)\n",
    "x_2 = np.array(x_2)\n",
    "x_3 = np.array(x_3)\n",
    "plt.scatter(x_1[:, 0], x_1[:, 1], color = 'cyan', s = 2)\n",
    "plt.scatter(x_2[:, 0], x_2[:, 1], color = 'magenta', s = 2)\n",
    "plt.scatter(x_3[:, 0], x_3[:, 1], color = 'yellow', s = 2)\n",
    "plt.scatter(X_1[:, 0], X_1[:, 1], color = 'blue', s = 2)\n",
    "plt.scatter(X_2[:, 0], X_2[:, 1], color = 'red', s = 2)\n",
    "plt.scatter(X_3[:, 0], X_3[:, 1], color = 'green', s = 2)"
   ]
  },
  {
   "cell_type": "code",
   "execution_count": null,
   "metadata": {},
   "outputs": [],
   "source": []
  }
 ],
 "metadata": {
  "kernelspec": {
   "display_name": "Python 3",
   "language": "python",
   "name": "python3"
  },
  "language_info": {
   "codemirror_mode": {
    "name": "ipython",
    "version": 3
   },
   "file_extension": ".py",
   "mimetype": "text/x-python",
   "name": "python",
   "nbconvert_exporter": "python",
   "pygments_lexer": "ipython3",
   "version": "3.6.8"
  }
 },
 "nbformat": 4,
 "nbformat_minor": 2
}

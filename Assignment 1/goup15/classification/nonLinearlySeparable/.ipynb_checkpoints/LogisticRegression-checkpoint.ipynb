{
 "cells": [
  {
   "cell_type": "code",
   "execution_count": 15,
   "metadata": {},
   "outputs": [],
   "source": [
    "import numpy as np\n",
    "import matplotlib.pyplot as plt\n",
    "import pandas as pd"
   ]
  },
  {
   "cell_type": "code",
   "execution_count": 16,
   "metadata": {},
   "outputs": [],
   "source": [
    "# load data\n",
    "X_1 = np.loadtxt('class1_train.txt')\n",
    "X_2 = np.loadtxt('class2_train.txt')\n",
    "X_1_val = np.loadtxt('class1_val.txt')\n",
    "X_2_val = np.loadtxt('class2_val.txt')\n",
    "X_1_test = np.loadtxt('class1_test.txt')\n",
    "X_2_test = np.loadtxt('class2_test.txt')"
   ]
  },
  {
   "cell_type": "code",
   "execution_count": 17,
   "metadata": {},
   "outputs": [
    {
     "data": {
      "text/plain": [
       "<matplotlib.collections.PathCollection at 0x7f821e1d47f0>"
      ]
     },
     "execution_count": 17,
     "metadata": {},
     "output_type": "execute_result"
    },
    {
     "data": {
      "image/png": "[encoded data removed]",
      "text/plain": [
       "<Figure size 360x360 with 1 Axes>"
      ]
     },
     "metadata": {
      "needs_background": "light"
     },
     "output_type": "display_data"
    }
   ],
   "source": [
    "# simply visualising data\n",
    "plt.scatter(X_1[:, 0], X_1[:, 1], color = 'cyan', s = 2)\n",
    "plt.scatter(X_2[:, 0], X_2[:, 1], color = 'magenta', s = 2)"
   ]
  },
  {
   "cell_type": "code",
   "execution_count": 18,
   "metadata": {},
   "outputs": [],
   "source": [
    "# Gradient Descent function\n",
    "def p(X, W):\n",
    "    return 1/(1+np.exp(-np.dot(X, W)))\n",
    "def loss(X_1, X_2, W):\n",
    "    return -(np.sum(np.log(p(X_1, W)))+np.sum(np.log(1-p(X_2, W))))\n",
    "def GD(X_1, X_2, alpha = 0.01, epochs = 10, verbose = False):\n",
    "    W = np.random.randn(X_1.shape[1])\n",
    "    if verbose:\n",
    "        print('Epoch: ', 0, ' Loss: ', loss(X_1, X_2, W))\n",
    "    for epoch in range(1, epochs+1):\n",
    "        for x in X_1:\n",
    "            w = W+alpha*np.dot(p(x, W)-1, x)\n",
    "        for x in X_2:\n",
    "            w = W+alpha*np.dot(p(x, W), x)\n",
    "        W = W-alpha*(np.dot(p(X_1, W)-1, X_1)+np.dot(p(X_2, W), X_2))\n",
    "        if verbose:\n",
    "            print('Epoch: ', epoch, ' Loss: ', loss(X_1, X_2, W))\n",
    "    return W"
   ]
  },
  {
   "cell_type": "code",
   "execution_count": 19,
   "metadata": {},
   "outputs": [],
   "source": [
    "# finding logistic parameters\n",
    "X_1_aug = np.ones((X_1.shape[0], 3))\n",
    "X_1_aug[:, 1:3] = X_1\n",
    "X_2_aug = np.ones((X_2.shape[0], 3))\n",
    "X_2_aug[:, 1:3] = X_2\n",
    "X_1_test_aug = np.ones((X_1_test.shape[0], 3))\n",
    "X_1_test_aug[:, 1:3] = X_1_test\n",
    "X_2_test_aug = np.ones((X_2_test.shape[0], 3))\n",
    "X_2_test_aug[:, 1:3] = X_2_test\n",
    "\n",
    "\n",
    "# class 1 vs 2\n",
    "alpha = 0.01\n",
    "W12 = GD(X_1_aug, X_2_aug, epochs = 100)"
   ]
  },
  {
   "cell_type": "code",
   "execution_count": 26,
   "metadata": {},
   "outputs": [],
   "source": [
    "# Logistic model based on voting\n",
    "def predict(x):\n",
    "    if np.dot(W12, x) > 0:\n",
    "        return 0\n",
    "    else:\n",
    "        return 1\n"
   ]
  },
  {
   "cell_type": "code",
   "execution_count": 27,
   "metadata": {},
   "outputs": [
    {
     "data": {
      "text/html": [
       "<div>\n",
       "<style scoped>\n",
       "    .dataframe tbody tr th:only-of-type {\n",
       "        vertical-align: middle;\n",
       "    }\n",
       "\n",
       "    .dataframe tbody tr th {\n",
       "        vertical-align: top;\n",
       "    }\n",
       "\n",
       "    .dataframe thead th {\n",
       "        text-align: right;\n",
       "    }\n",
       "</style>\n",
       "<table border=\"1\" class=\"dataframe\">\n",
       "  <thead>\n",
       "    <tr style=\"text-align: right;\">\n",
       "      <th></th>\n",
       "      <th>True 1</th>\n",
       "      <th>True 2</th>\n",
       "    </tr>\n",
       "  </thead>\n",
       "  <tbody>\n",
       "    <tr>\n",
       "      <th>Predicted 1</th>\n",
       "      <td>97.0</td>\n",
       "      <td>4.0</td>\n",
       "    </tr>\n",
       "    <tr>\n",
       "      <th>Predicted 2</th>\n",
       "      <td>3.0</td>\n",
       "      <td>96.0</td>\n",
       "    </tr>\n",
       "  </tbody>\n",
       "</table>\n",
       "</div>"
      ],
      "text/plain": [
       "             True 1  True 2\n",
       "Predicted 1    97.0     4.0\n",
       "Predicted 2     3.0    96.0"
      ]
     },
     "execution_count": 27,
     "metadata": {},
     "output_type": "execute_result"
    }
   ],
   "source": [
    "# confusion matrix\n",
    "# rows: predicted classes, columns: true classes\n",
    "ConfusionMatrix = np.zeros((2, 2))\n",
    "X = [X_1_test_aug, X_2_test_aug]\n",
    "for i in range(2):\n",
    "    for x in X[i]:\n",
    "        ConfusionMatrix[predict(x), i] = ConfusionMatrix[predict(x), i]+1\n",
    "pd.DataFrame(ConfusionMatrix, ['Predicted 1', 'Predicted 2'],['True 1', 'True 2'])"
   ]
  },
  {
   "cell_type": "code",
   "execution_count": 28,
   "metadata": {},
   "outputs": [
    {
     "name": "stdout",
     "output_type": "stream",
     "text": [
      "{'Accuracy: ': [97.0, 96.0], 'Mean Accuracy': 96.5}\n",
      "{'Precision: ': [0.9603960396039604, 0.9696969696969697], 'Mean Precision': 0.965046504650465}\n",
      "{'Recall: ': [0.97, 0.96], 'Mean Recall': 0.965}\n",
      "{'F_measure: ': [0.9651741293532338, 0.964824120603015], 'Mean F_measure': 0.9649991249781245}\n"
     ]
    }
   ],
   "source": [
    "# performance measures\n",
    "N = np.sum(ConfusionMatrix, axis = 0)\n",
    "TP = np.diagonal(ConfusionMatrix)\n",
    "TN = np.sum(TP)-TP\n",
    "FP = np.sum(ConfusionMatrix, axis = 1)-TP\n",
    "FN = np.sum(ConfusionMatrix, axis = 0)-TP\n",
    "Accuracy = 100*TP/N\n",
    "Precision = TP/(TP+FP)\n",
    "Recall = TP/(TP+FN)\n",
    "F_measure = 2*Precision*Recall/(Precision+Recall)\n",
    "print({\n",
    "    'Accuracy: ': Accuracy.tolist(),\n",
    "    'Mean Accuracy': np.mean(Accuracy)\n",
    "})\n",
    "print({\n",
    "    'Precision: ': Precision.tolist(),\n",
    "    'Mean Precision': np.mean(Precision)\n",
    "})\n",
    "print({\n",
    "    'Recall: ': Recall.tolist(),\n",
    "    'Mean Recall': np.mean(Recall)\n",
    "})\n",
    "print({\n",
    "    'F_measure: ': F_measure.tolist(),\n",
    "    'Mean F_measure': np.mean(F_measure)\n",
    "})"
   ]
  },
  {
   "cell_type": "code",
   "execution_count": 29,
   "metadata": {},
   "outputs": [
    {
     "data": {
      "text/plain": [
       "<matplotlib.collections.PathCollection at 0x7f821e384908>"
      ]
     },
     "execution_count": 29,
     "metadata": {},
     "output_type": "execute_result"
    },
    {
     "data": {
      "image/png": "[encoded data removed]",
      "text/plain": [
       "<Figure size 360x360 with 1 Axes>"
      ]
     },
     "metadata": {
      "needs_background": "light"
     },
     "output_type": "display_data"
    }
   ],
   "source": [
    "# Decision region plot for all the classes together with the training data superposed\n",
    "x_min = min([min(X_1[:, 0]), min(X_2[:, 0])])\n",
    "y_min = min([min(X_1[:, 1]), min(X_2[:, 1])])\n",
    "x_max = max([max(X_1[:, 0]), max(X_2[:, 0])])\n",
    "y_max = max([max(X_1[:, 1]), max(X_2[:, 1])])\n",
    "plt.rcParams['figure.figsize'] = [5, 5]\n",
    "x_1 = []\n",
    "x_2 = []\n",
    "for x in np.arange(x_min, x_max, 0.01):\n",
    "    for y in np.arange(y_min, y_max, 0.01):\n",
    "        c = predict([1, x, y])\n",
    "        if c == 0:\n",
    "            x_1.append([x, y])\n",
    "        elif c == 1:\n",
    "            x_2.append([x, y])\n",
    "x_1 = np.array(x_1)\n",
    "x_2 = np.array(x_2)\n",
    "plt.scatter(x_1[:, 0], x_1[:, 1], color = 'cyan', s = 2)\n",
    "plt.scatter(x_2[:, 0], x_2[:, 1], color = 'magenta', s = 2)\n",
    "plt.scatter(X_1[:, 0], X_1[:, 1], color = 'blue', s = 2)\n",
    "plt.scatter(X_2[:, 0], X_2[:, 1], color = 'red', s = 2)"
   ]
  },
  {
   "cell_type": "code",
   "execution_count": null,
   "metadata": {},
   "outputs": [],
   "source": []
  }
 ],
 "metadata": {
  "kernelspec": {
   "display_name": "Python 3",
   "language": "python",
   "name": "python3"
  },
  "language_info": {
   "codemirror_mode": {
    "name": "ipython",
    "version": 3
   },
   "file_extension": ".py",
   "mimetype": "text/x-python",
   "name": "python",
   "nbconvert_exporter": "python",
   "pygments_lexer": "ipython3",
   "version": "3.6.8"
  }
 },
 "nbformat": 4,
 "nbformat_minor": 2
}

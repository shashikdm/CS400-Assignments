{
 "cells": [
  {
   "cell_type": "code",
   "execution_count": 4,
   "metadata": {},
   "outputs": [],
   "source": [
    "import numpy as np\n",
    "import matplotlib.pyplot as plt\n",
    "import pandas as pd\n",
    "from sklearn import svm"
   ]
  },
  {
   "cell_type": "code",
   "execution_count": 5,
   "metadata": {},
   "outputs": [],
   "source": [
    "# load data\n",
    "X_1 = np.loadtxt('class1_train.txt')\n",
    "X_2 = np.loadtxt('class2_train.txt')\n",
    "X_1_val = np.loadtxt('class1_val.txt')\n",
    "X_2_val = np.loadtxt('class2_val.txt')\n",
    "X_1_test = np.loadtxt('class1_test.txt')\n",
    "X_2_test = np.loadtxt('class2_test.txt')\n",
    "X_train = np.concatenate((X_1, X_2))\n",
    "y_train = np.zeros((X_train.shape[0]))\n",
    "y_train[0:X_1.shape[0]] = 0\n",
    "y_train[X_1.shape[0]:] = 1\n"
   ]
  },
  {
   "cell_type": "code",
   "execution_count": 6,
   "metadata": {},
   "outputs": [
    {
     "data": {
      "text/plain": [
       "Text(0, 0.5, 'X2')"
      ]
     },
     "execution_count": 6,
     "metadata": {},
     "output_type": "execute_result"
    },
    {
     "data": {
      "image/png": "[encoded data removed]",
      "text/plain": [
       "<Figure size 432x288 with 1 Axes>"
      ]
     },
     "metadata": {
      "needs_background": "light"
     },
     "output_type": "display_data"
    }
   ],
   "source": [
    "# simply visualising data\n",
    "C1plt = plt.scatter(X_1[:, 0], X_1[:, 1], color = 'cyan', s = 2)\n",
    "C2plt = plt.scatter(X_2[:, 0], X_2[:, 1], color = 'magenta', s = 2)\n",
    "plt.legend((C1plt, C2plt), ('Class 1', 'Class 2'))\n",
    "plt.title('Training data')\n",
    "plt.xlabel('X1')\n",
    "plt.ylabel('X2')"
   ]
  },
  {
   "cell_type": "code",
   "execution_count": 7,
   "metadata": {},
   "outputs": [
    {
     "data": {
      "text/plain": [
       "SVC(C=1.0, cache_size=200, class_weight=None, coef0=0.0,\n",
       "    decision_function_shape='ovo', degree=3, gamma='scale', kernel='rbf',\n",
       "    max_iter=-1, probability=False, random_state=None, shrinking=True,\n",
       "    tol=0.001, verbose=False)"
      ]
     },
     "execution_count": 7,
     "metadata": {},
     "output_type": "execute_result"
    }
   ],
   "source": [
    "# svm classifier\n",
    "clf = svm.SVC(kernel = 'rbf', gamma = 'scale', decision_function_shape='ovo')\n",
    "clf.fit(X_train, y_train)"
   ]
  },
  {
   "cell_type": "code",
   "execution_count": 8,
   "metadata": {},
   "outputs": [
    {
     "data": {
      "text/html": [
       "<div>\n",
       "<style scoped>\n",
       "    .dataframe tbody tr th:only-of-type {\n",
       "        vertical-align: middle;\n",
       "    }\n",
       "\n",
       "    .dataframe tbody tr th {\n",
       "        vertical-align: top;\n",
       "    }\n",
       "\n",
       "    .dataframe thead th {\n",
       "        text-align: right;\n",
       "    }\n",
       "</style>\n",
       "<table border=\"1\" class=\"dataframe\">\n",
       "  <thead>\n",
       "    <tr style=\"text-align: right;\">\n",
       "      <th></th>\n",
       "      <th>True 1</th>\n",
       "      <th>True 2</th>\n",
       "    </tr>\n",
       "  </thead>\n",
       "  <tbody>\n",
       "    <tr>\n",
       "      <th>Predicted 1</th>\n",
       "      <td>100.0</td>\n",
       "      <td>0.0</td>\n",
       "    </tr>\n",
       "    <tr>\n",
       "      <th>Predicted 2</th>\n",
       "      <td>0.0</td>\n",
       "      <td>100.0</td>\n",
       "    </tr>\n",
       "  </tbody>\n",
       "</table>\n",
       "</div>"
      ],
      "text/plain": [
       "             True 1  True 2\n",
       "Predicted 1   100.0     0.0\n",
       "Predicted 2     0.0   100.0"
      ]
     },
     "execution_count": 8,
     "metadata": {},
     "output_type": "execute_result"
    }
   ],
   "source": [
    "# confusion matrix\n",
    "# rows: predicted classes, columns: true classes\n",
    "ConfusionMatrix = np.zeros((2, 2))\n",
    "X = [X_1_test, X_2_test]\n",
    "for i in range(2):\n",
    "    for x in X[i]:\n",
    "        x = x.reshape(1, -1)\n",
    "        ConfusionMatrix[int(clf.predict(x)), i] = ConfusionMatrix[int(clf.predict(x)), i]+1\n",
    "pd.DataFrame(ConfusionMatrix, ['Predicted 1', 'Predicted 2'],['True 1', 'True 2'])"
   ]
  },
  {
   "cell_type": "code",
   "execution_count": 9,
   "metadata": {},
   "outputs": [
    {
     "name": "stdout",
     "output_type": "stream",
     "text": [
      "{'Accuracy: ': 100.0}\n",
      "{'Precision: ': 1.0}\n",
      "{'Recall: ': 1.0}\n",
      "{'F_measure: ': 1.0}\n"
     ]
    }
   ],
   "source": [
    "# performance measures\n",
    "N = np.sum(ConfusionMatrix[:, 0])\n",
    "TP = ConfusionMatrix[0, 0]\n",
    "TN = ConfusionMatrix[1, 1]\n",
    "FP = ConfusionMatrix[0, 1]\n",
    "FN = ConfusionMatrix[1, 0]\n",
    "Accuracy = 100*TP/N\n",
    "Precision = TP/(TP+FP)\n",
    "Recall = TP/(TP+FN)\n",
    "F_measure = 2*Precision*Recall/(Precision+Recall)\n",
    "print({\n",
    "    'Accuracy: ': Accuracy,\n",
    "})\n",
    "print({\n",
    "    'Precision: ': Precision,\n",
    "})\n",
    "print({\n",
    "    'Recall: ': Recall,\n",
    "})\n",
    "print({\n",
    "    'F_measure: ': F_measure,\n",
    "})"
   ]
  },
  {
   "cell_type": "code",
   "execution_count": 11,
   "metadata": {},
   "outputs": [
    {
     "data": {
      "text/plain": [
       "<matplotlib.collections.PathCollection at 0x7f25ff9ce588>"
      ]
     },
     "execution_count": 11,
     "metadata": {},
     "output_type": "execute_result"
    },
    {
     "data": {
      "image/png": "[encoded data removed]",
      "text/plain": [
       "<Figure size 432x288 with 1 Axes>"
      ]
     },
     "metadata": {
      "needs_background": "light"
     },
     "output_type": "display_data"
    }
   ],
   "source": [
    "# Decision region plot for all the classes together with the training data superposed\n",
    "x_min = min([min(X_1[:, 0]), min(X_2[:, 0])])\n",
    "y_min = min([min(X_1[:, 1]), min(X_2[:, 1])])\n",
    "x_max = max([max(X_1[:, 0]), max(X_2[:, 0])])\n",
    "y_max = max([max(X_1[:, 1]), max(X_2[:, 1])])\n",
    "x_1 = []\n",
    "x_2 = []\n",
    "for x in np.arange(x_min, x_max, 0.01):\n",
    "    for y in np.arange(y_min, y_max, 0.01):\n",
    "        c = clf.predict([[x, y]])\n",
    "        if c == 0:\n",
    "            x_1.append([x, y])\n",
    "        elif c == 1:\n",
    "            x_2.append([x, y])\n",
    "x_1 = np.array(x_1)\n",
    "x_2 = np.array(x_2)\n",
    "plt.scatter(x_1[:, 0], x_1[:, 1], color = 'cyan', s = 2)\n",
    "plt.scatter(x_2[:, 0], x_2[:, 1], color = 'magenta', s = 2)\n",
    "C1plt = plt.scatter(X_1[:, 0], X_1[:, 1], color = 'blue', s = 2)\n",
    "C2plt = plt.scatter(X_2[:, 0], X_2[:, 1], color = 'red', s = 2)\n",
    "plt.title('Decision regions')\n",
    "plt.xlabel('X1')\n",
    "plt.ylabel('X2')\n",
    "plt.legend((C1plt, C2plt), ('Class 1', 'Class 2'))\n",
    "plt.scatter(clf.support_vectors_[:, 0], clf.support_vectors_[:, 1], facecolors='none', edgecolors='black', s = 32)"
   ]
  },
  {
   "cell_type": "code",
   "execution_count": null,
   "metadata": {},
   "outputs": [],
   "source": []
  }
 ],
 "metadata": {
  "kernelspec": {
   "display_name": "Python 3",
   "language": "python",
   "name": "python3"
  },
  "language_info": {
   "codemirror_mode": {
    "name": "ipython",
    "version": 3
   },
   "file_extension": ".py",
   "mimetype": "text/x-python",
   "name": "python",
   "nbconvert_exporter": "python",
   "pygments_lexer": "ipython3",
   "version": "3.6.8"
  }
 },
 "nbformat": 4,
 "nbformat_minor": 2
}

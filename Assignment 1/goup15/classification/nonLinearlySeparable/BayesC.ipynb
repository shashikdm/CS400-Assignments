{
 "cells": [
  {
   "cell_type": "code",
   "execution_count": 1,
   "metadata": {},
   "outputs": [],
   "source": [
    "import numpy as np\n",
    "import matplotlib.pyplot as plt\n",
    "import pandas as pd"
   ]
  },
  {
   "cell_type": "code",
   "execution_count": 2,
   "metadata": {},
   "outputs": [],
   "source": [
    "# load data\n",
    "X_1 = np.loadtxt('class1_train.txt')\n",
    "X_2 = np.loadtxt('class2_train.txt')\n",
    "X_1_val = np.loadtxt('class1_val.txt')\n",
    "X_2_val = np.loadtxt('class2_val.txt')\n",
    "X_1_test = np.loadtxt('class1_test.txt')\n",
    "X_2_test = np.loadtxt('class2_test.txt')"
   ]
  },
  {
   "cell_type": "code",
   "execution_count": 3,
   "metadata": {},
   "outputs": [
    {
     "data": {
      "text/plain": [
       "Text(0, 0.5, 'X2')"
      ]
     },
     "execution_count": 3,
     "metadata": {},
     "output_type": "execute_result"
    },
    {
     "data": {
      "image/png": "[encoded data removed]",
      "text/plain": [
       "<Figure size 432x288 with 1 Axes>"
      ]
     },
     "metadata": {
      "needs_background": "light"
     },
     "output_type": "display_data"
    }
   ],
   "source": [
    "# simply visualising data\n",
    "C1plt = plt.scatter(X_1[:, 0], X_1[:, 1], color = 'cyan', s = 2)\n",
    "C2plt = plt.scatter(X_2[:, 0], X_2[:, 1], color = 'magenta', s = 2)\n",
    "plt.legend((C1plt, C2plt), ('Class 1', 'Class 2'))\n",
    "plt.title('Training data')\n",
    "plt.xlabel('X1')\n",
    "plt.ylabel('X2')"
   ]
  },
  {
   "cell_type": "code",
   "execution_count": 4,
   "metadata": {},
   "outputs": [],
   "source": [
    "# find parameters\n",
    "u_1 = np.mean(X_1, axis = 0)\n",
    "u_2 = np.mean(X_2, axis = 0)\n",
    "s_1 = np.mean(np.cov(X_1.T))*np.eye(2, 2)\n",
    "s_2 = np.mean(np.cov(X_2.T))*np.eye(2, 2)\n",
    "pc_1 = X_1.shape[0]/(X_1.shape[0]+X_2.shape[0])\n",
    "pc_2 = X_2.shape[0]/(X_1.shape[0]+X_2.shape[0])"
   ]
  },
  {
   "cell_type": "code",
   "execution_count": 5,
   "metadata": {},
   "outputs": [],
   "source": [
    "# define functions g1, g2, g3\n",
    "W11 = -(1/2)*np.linalg.pinv(s_1)\n",
    "w11 = np.dot(np.linalg.pinv(s_1), u_1)\n",
    "w10 = -(1/2)*np.dot(np.dot(u_1.T, np.linalg.pinv(s_1)), u_1)-(1/2)*np.log(np.linalg.det(s_1))+np.log(pc_1)\n",
    "\n",
    "W21 = -(1/2)*np.linalg.pinv(s_2)\n",
    "w21 = np.dot(np.linalg.pinv(s_2), u_2)\n",
    "w20 = -(1/2)*np.dot(np.dot(u_2.T, np.linalg.pinv(s_2)), u_2)-(1/2)*np.log(np.linalg.det(s_2))+np.log(pc_2)\n",
    "\n",
    "def g1(x):\n",
    "    return np.dot(np.dot(np.transpose(x), W11), x)+np.dot(w11.T, x)+w10\n",
    "def g2(x):\n",
    "    return np.dot(np.dot(np.transpose(x), W21), x)+np.dot(w21.T, x)+w20"
   ]
  },
  {
   "cell_type": "code",
   "execution_count": 6,
   "metadata": {},
   "outputs": [],
   "source": [
    "# classifier\n",
    "def predict(x):\n",
    "    return np.argmax([g1(x), g2(x)])"
   ]
  },
  {
   "cell_type": "code",
   "execution_count": 7,
   "metadata": {},
   "outputs": [
    {
     "data": {
      "text/html": [
       "<div>\n",
       "<style scoped>\n",
       "    .dataframe tbody tr th:only-of-type {\n",
       "        vertical-align: middle;\n",
       "    }\n",
       "\n",
       "    .dataframe tbody tr th {\n",
       "        vertical-align: top;\n",
       "    }\n",
       "\n",
       "    .dataframe thead th {\n",
       "        text-align: right;\n",
       "    }\n",
       "</style>\n",
       "<table border=\"1\" class=\"dataframe\">\n",
       "  <thead>\n",
       "    <tr style=\"text-align: right;\">\n",
       "      <th></th>\n",
       "      <th>True 1</th>\n",
       "      <th>True 2</th>\n",
       "    </tr>\n",
       "  </thead>\n",
       "  <tbody>\n",
       "    <tr>\n",
       "      <th>Predicted 1</th>\n",
       "      <td>87.0</td>\n",
       "      <td>17.0</td>\n",
       "    </tr>\n",
       "    <tr>\n",
       "      <th>Predicted 2</th>\n",
       "      <td>13.0</td>\n",
       "      <td>83.0</td>\n",
       "    </tr>\n",
       "  </tbody>\n",
       "</table>\n",
       "</div>"
      ],
      "text/plain": [
       "             True 1  True 2\n",
       "Predicted 1    87.0    17.0\n",
       "Predicted 2    13.0    83.0"
      ]
     },
     "execution_count": 7,
     "metadata": {},
     "output_type": "execute_result"
    }
   ],
   "source": [
    "# confusion matrix\n",
    "# rows: predicted classes, columns: true classes\n",
    "ConfusionMatrix = np.zeros((2, 2))\n",
    "X = [X_1_test, X_2_test]\n",
    "for i in range(2):\n",
    "    for x in X[i]:\n",
    "        ConfusionMatrix[predict(x), i] = ConfusionMatrix[predict(x), i]+1\n",
    "pd.DataFrame(ConfusionMatrix, ['Predicted 1', 'Predicted 2'],['True 1', 'True 2'])"
   ]
  },
  {
   "cell_type": "code",
   "execution_count": 8,
   "metadata": {},
   "outputs": [
    {
     "name": "stdout",
     "output_type": "stream",
     "text": [
      "{'Accuracy: ': 87.0}\n",
      "{'Precision: ': 0.8365384615384616}\n",
      "{'Recall: ': 0.87}\n",
      "{'F_measure: ': 0.8529411764705882}\n"
     ]
    }
   ],
   "source": [
    "# performance measures\n",
    "N = np.sum(ConfusionMatrix[:, 0])\n",
    "TP = ConfusionMatrix[0, 0]\n",
    "TN = ConfusionMatrix[1, 1]\n",
    "FP = ConfusionMatrix[0, 1]\n",
    "FN = ConfusionMatrix[1, 0]\n",
    "Accuracy = 100*TP/N\n",
    "Precision = TP/(TP+FP)\n",
    "Recall = TP/(TP+FN)\n",
    "F_measure = 2*Precision*Recall/(Precision+Recall)\n",
    "print({\n",
    "    'Accuracy: ': Accuracy,\n",
    "})\n",
    "print({\n",
    "    'Precision: ': Precision,\n",
    "})\n",
    "print({\n",
    "    'Recall: ': Recall,\n",
    "})\n",
    "print({\n",
    "    'F_measure: ': F_measure,\n",
    "})"
   ]
  },
  {
   "cell_type": "code",
   "execution_count": 9,
   "metadata": {},
   "outputs": [
    {
     "data": {
      "text/plain": [
       "<matplotlib.legend.Legend at 0x7f98867ce5f8>"
      ]
     },
     "execution_count": 9,
     "metadata": {},
     "output_type": "execute_result"
    },
    {
     "data": {
      "image/png": "[encoded data removed]",
      "text/plain": [
       "<Figure size 432x288 with 1 Axes>"
      ]
     },
     "metadata": {
      "needs_background": "light"
     },
     "output_type": "display_data"
    }
   ],
   "source": [
    "# Decision region plot for all the classes together with the training data superposed\n",
    "x_min = min([min(X_1[:, 0]), min(X_2[:, 0])])\n",
    "y_min = min([min(X_1[:, 1]), min(X_2[:, 1])])\n",
    "x_max = max([max(X_1[:, 0]), max(X_2[:, 0])])\n",
    "y_max = max([max(X_1[:, 1]), max(X_2[:, 1])])\n",
    "x_1 = []\n",
    "x_2 = []\n",
    "for x in np.arange(x_min, x_max, 0.01):\n",
    "    for y in np.arange(y_min, y_max, 0.01):\n",
    "        c = predict([x, y])\n",
    "        if c == 0:\n",
    "            x_1.append([x, y])\n",
    "        elif c == 1:\n",
    "            x_2.append([x, y])\n",
    "x_1 = np.array(x_1)\n",
    "x_2 = np.array(x_2)\n",
    "plt.scatter(x_1[:, 0], x_1[:, 1], color = 'cyan', s = 2)\n",
    "plt.scatter(x_2[:, 0], x_2[:, 1], color = 'magenta', s = 2)\n",
    "C1plt = plt.scatter(X_1[:, 0], X_1[:, 1], color = 'blue', s = 2)\n",
    "C2plt = plt.scatter(X_2[:, 0], X_2[:, 1], color = 'red', s = 2)\n",
    "plt.title('Decision regions')\n",
    "plt.xlabel('X1')\n",
    "plt.ylabel('X2')\n",
    "plt.legend((C1plt, C2plt), ('Class 1', 'Class 2'))"
   ]
  },
  {
   "cell_type": "code",
   "execution_count": null,
   "metadata": {},
   "outputs": [],
   "source": []
  }
 ],
 "metadata": {
  "kernelspec": {
   "display_name": "Python 3",
   "language": "python",
   "name": "python3"
  },
  "language_info": {
   "codemirror_mode": {
    "name": "ipython",
    "version": 3
   },
   "file_extension": ".py",
   "mimetype": "text/x-python",
   "name": "python",
   "nbconvert_exporter": "python",
   "pygments_lexer": "ipython3",
   "version": "3.6.8"
  }
 },
 "nbformat": 4,
 "nbformat_minor": 2
}
